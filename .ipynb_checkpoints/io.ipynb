{
 "cells": [
  {
   "cell_type": "markdown",
   "id": "68cf7d66",
   "metadata": {},
   "source": [
    "# How to Read a file"
   ]
  },
  {
   "cell_type": "code",
   "execution_count": 2,
   "id": "9802082d",
   "metadata": {},
   "outputs": [
    {
     "name": "stdout",
     "output_type": "stream",
     "text": [
      "Mathematics and statistics\n",
      "Programming\n",
      "Machine learning\n",
      "Data mining\n",
      "Data visualization\n",
      "Big data\n",
      "Business acumen\n",
      "<class 'str'>\n"
     ]
    }
   ],
   "source": [
    "file = open('sample.txt', 'r')\n",
    "contents = file.read()\n",
    "print(contents)\n",
    "print(type(contents))\n",
    "file.close()"
   ]
  },
  {
   "cell_type": "code",
   "execution_count": 6,
   "id": "3abcde74",
   "metadata": {},
   "outputs": [
    {
     "data": {
      "text/plain": [
       "'C:\\\\Users\\\\Admin\\\\Amaan'"
      ]
     },
     "execution_count": 6,
     "metadata": {},
     "output_type": "execute_result"
    }
   ],
   "source": [
    "import os\n",
    "os.getcwd()"
   ]
  },
  {
   "cell_type": "markdown",
   "id": "00c6a69b",
   "metadata": {},
   "source": [
    "* The first argument in the example call on function open, 'sample.txt', is the name of the file to open, and the second argument, 'r', tells Python that you want to read the file; this is called the file mode. Other options for the mode include 'w' for writing and 'a' for appending.\n",
    "* The second statement, contents = file.read(), tells Python that you want to read the contents of the entire file into a string, which we assign to a variable called contents.\n",
    "* The third statement prints that string\n",
    "The last statement, file.close(), releases all resources associated with the open file object."
   ]
  },
  {
   "cell_type": "markdown",
   "id": "90b6d36f",
   "metadata": {},
   "source": [
    "# The with Statement"
   ]
  },
  {
   "cell_type": "markdown",
   "id": "bb340cbe",
   "metadata": {},
   "source": [
    "Because every call on function open should have a corresponding call on method close, Python provides a with statement that automatically closes a file when the end of the block is reached. Here is the same example using a with statement:"
   ]
  },
  {
   "cell_type": "code",
   "execution_count": 3,
   "id": "e34c852b",
   "metadata": {},
   "outputs": [
    {
     "name": "stdout",
     "output_type": "stream",
     "text": [
      "Mathematics and statistics\n",
      "Programming\n",
      "Machine learning\n",
      "Data mining\n",
      "Data visualization\n",
      "Big data\n",
      "Business acumen\n"
     ]
    }
   ],
   "source": [
    "with open('sample.txt', 'r') as file:\n",
    "    contents = file.read()\n",
    "print(contents)\n"
   ]
  },
  {
   "cell_type": "markdown",
   "id": "cf05782a",
   "metadata": {},
   "source": [
    "# Techniques for Reading Files"
   ]
  },
  {
   "cell_type": "markdown",
   "id": "34d8e26c",
   "metadata": {},
   "source": [
    "## The Read Technique"
   ]
  },
  {
   "cell_type": "markdown",
   "id": "31413fec",
   "metadata": {},
   "source": [
    "Use this technique when you want to read the contents of a file into a single string, or when you want to specify exactly how many characters to read.\n",
    "here is the same example:\n"
   ]
  },
  {
   "cell_type": "code",
   "execution_count": 4,
   "id": "d8894ca9",
   "metadata": {},
   "outputs": [
    {
     "name": "stdout",
     "output_type": "stream",
     "text": [
      "Mathematics and statistics\n",
      "Programming\n",
      "Machine learning\n",
      "Data mining\n",
      "Data visualization\n",
      "Big data\n",
      "Business acumen\n"
     ]
    }
   ],
   "source": [
    "with open('sample.txt', 'r') as file:\n",
    "    contents = file.read()\n",
    "    print(contents)\n"
   ]
  },
  {
   "cell_type": "markdown",
   "id": "f70e07de",
   "metadata": {},
   "source": [
    "When called with no arguments, it reads everything from the current file cursor all the way to the end of the file and moves the file cursor to the end\n",
    "of the file,\n"
   ]
  },
  {
   "cell_type": "code",
   "execution_count": 5,
   "id": "a836b0eb",
   "metadata": {},
   "outputs": [
    {
     "name": "stdout",
     "output_type": "stream",
     "text": [
      "The first 10 characters: Mathematic\n",
      "The rest of the file: s and statistics\n",
      "Programming\n",
      "Machine learning\n",
      "Data mining\n",
      "Data visualization\n",
      "Big data\n",
      "Business acumen\n"
     ]
    }
   ],
   "source": [
    "with open('sample.txt', 'r') as sample_file:\n",
    "   first_ten_chars = sample_file.read(10)\n",
    "   the_rest = sample_file.read()\n",
    "print(\"The first 10 characters:\", first_ten_chars)\n",
    "print(\"The rest of the file:\", the_rest)\n"
   ]
  },
  {
   "cell_type": "markdown",
   "id": "4aee9d5f",
   "metadata": {},
   "source": [
    "## Reading files in a list"
   ]
  },
  {
   "cell_type": "code",
   "execution_count": 7,
   "id": "6d7ef818",
   "metadata": {},
   "outputs": [
    {
     "name": "stdout",
     "output_type": "stream",
     "text": [
      "['Mathematics and statistics\\n', 'Programming\\n', 'Machine learning\\n', 'Data mining\\n', 'Data visualization\\n', 'Big data\\n', 'Business acumen']\n"
     ]
    }
   ],
   "source": [
    "with open('sample.txt', 'r') as example_file:\n",
    "    tlines = example_file.readlines()\n",
    "print(tlines)"
   ]
  },
  {
   "cell_type": "code",
   "execution_count": 9,
   "id": "7cd30e91",
   "metadata": {},
   "outputs": [
    {
     "name": "stdout",
     "output_type": "stream",
     "text": [
      "Mathematics and statistics\n",
      "\n",
      "Programming\n",
      "\n"
     ]
    }
   ],
   "source": [
    "with open ('sample.txt','r') as file:\n",
    "    cont=file.readline()\n",
    "    print(cont)\n",
    "    cont=file.readline()\n",
    "    print(cont)"
   ]
  },
  {
   "cell_type": "code",
   "execution_count": 5,
   "id": "0c5dd200",
   "metadata": {},
   "outputs": [],
   "source": [
    "with open ('amaan.txt','a') as file:\n",
    "    x=file.write(\"Captain:- Luffy (gum-gum fruit)\\n\"\n",
    "    \"Vice-Captain:- Zoro (no fruit)\\n\"\n",
    "    \"Navigator:- Nami (no fruit)\\n\"\n",
    "    \"Sniper:- Usopp (no fruit)\\n\")\n",
    "    file.close()"
   ]
  },
  {
   "cell_type": "code",
   "execution_count": 6,
   "id": "397fba99",
   "metadata": {},
   "outputs": [
    {
     "name": "stdout",
     "output_type": "stream",
     "text": [
      "<class 'str'>\n",
      "Captain:- Luffy (gum-gum fruit)\n",
      "Vice-Captain:- Zoro (no fruit)\n",
      "Navigator:- Nami (no fruit)\n",
      "Sniper:- Usopp (no fruit)Captain:- Luffy (gum-gum fruit)\n",
      "Vice-Captain:- Zoro (no fruit)\n",
      "Navigator:- Nami (no fruit)\n",
      "Sniper:- Usopp (no fruit)Captain:- Luffy (gum-gum fruit)\n",
      "Vice-Captain:- Zoro (no fruit)\n",
      "Navigator:- Nami (no fruit)\n",
      "Sniper:- Usopp (no fruit)\n",
      "\n"
     ]
    }
   ],
   "source": [
    "with open ('amaan.txt','r') as file:\n",
    "    cont=file.read()\n",
    "    print(type(cont))\n",
    "    print(cont)\n",
    "    file.close()"
   ]
  },
  {
   "cell_type": "code",
   "execution_count": null,
   "id": "6d5756b9",
   "metadata": {},
   "outputs": [],
   "source": [
    "with open ('straw_hats.txt','r') as file:\n",
    "    cont=file.readlines()\n",
    "    for i in cont:\n",
    "        print(i)\n",
    "    file.close"
   ]
  },
  {
   "cell_type": "code",
   "execution_count": 19,
   "id": "0154996e",
   "metadata": {},
   "outputs": [],
   "source": [
    "textFile = ['India Sachin', 'Australia Steve', 'Pakistan Shahid', 'India Sachin', 'WestIndies chrisgyle', 'Australia Steve']\n",
    "outFile=open('score.txt','w')\n",
    "for i in textFile:\n",
    "    outFile.write(i)\n",
    "    outFile.write(\"\\n\")\n",
    "# print(outFile)\n",
    "outFile.close()"
   ]
  },
  {
   "cell_type": "code",
   "execution_count": 20,
   "id": "5e3dc4ea",
   "metadata": {},
   "outputs": [
    {
     "name": "stdout",
     "output_type": "stream",
     "text": [
      "India Sachin\n",
      "Australia Steve\n",
      "Pakistan Shahid\n",
      "India Sachin\n",
      "WestIndies chrisgyle\n",
      "Australia Steve\n",
      "\n"
     ]
    }
   ],
   "source": [
    "with open('score.txt','r') as file:\n",
    "    cont=file.read()\n",
    "    print(cont)"
   ]
  },
  {
   "cell_type": "code",
   "execution_count": null,
   "id": "890ffe85",
   "metadata": {},
   "outputs": [],
   "source": []
  },
  {
   "cell_type": "code",
   "execution_count": null,
   "id": "88b22569",
   "metadata": {},
   "outputs": [],
   "source": []
  }
 ],
 "metadata": {
  "kernelspec": {
   "display_name": "Python 3 (ipykernel)",
   "language": "python",
   "name": "python3"
  },
  "language_info": {
   "codemirror_mode": {
    "name": "ipython",
    "version": 3
   },
   "file_extension": ".py",
   "mimetype": "text/x-python",
   "name": "python",
   "nbconvert_exporter": "python",
   "pygments_lexer": "ipython3",
   "version": "3.11.4"
  }
 },
 "nbformat": 4,
 "nbformat_minor": 5
}
